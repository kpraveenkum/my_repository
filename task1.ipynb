{
 "cells": [
  {
   "cell_type": "code",
   "execution_count": 2,
   "id": "2c002d0e-10c1-4b5f-978c-c3d7086d21fc",
   "metadata": {},
   "outputs": [
    {
     "data": {
      "text/plain": [
       "array([217404.65963276])"
      ]
     },
     "execution_count": 2,
     "metadata": {},
     "output_type": "execute_result"
    }
   ],
   "source": [
    "import pandas as pd\n",
    "import math\n",
    "import numpy as np\n",
    "from sklearn import linear_model\n",
    "df = pd.read_csv(\"train.csv\")\n",
    "median_bedroom=math.floor(df.BedroomAbvGr.median())\n",
    "df.BedroomAbvGr=df.BedroomAbvGr.fillna(median_bedroom)\n",
    "reg=linear_model.LinearRegression()\n",
    "reg.fit(df[['LotArea','BedroomAbvGr','FullBath']],df.SalePrice)\n",
    "input=pd.DataFrame([[8450, 2, 2]], columns=['LotArea','BedroomAbvGr','FullBath'])\n",
    "reg.predict(input)"
   ]
  },
  {
   "cell_type": "code",
   "execution_count": null,
   "id": "0dd9acd7-bc33-435e-aad5-0568a794a0df",
   "metadata": {},
   "outputs": [],
   "source": []
  },
  {
   "cell_type": "code",
   "execution_count": null,
   "id": "18119678-a818-4489-86c5-b9bb9312e79f",
   "metadata": {},
   "outputs": [],
   "source": []
  }
 ],
 "metadata": {
  "kernelspec": {
   "display_name": "Python 3 (ipykernel)",
   "language": "python",
   "name": "python3"
  },
  "language_info": {
   "codemirror_mode": {
    "name": "ipython",
    "version": 3
   },
   "file_extension": ".py",
   "mimetype": "text/x-python",
   "name": "python",
   "nbconvert_exporter": "python",
   "pygments_lexer": "ipython3",
   "version": "3.12.7"
  }
 },
 "nbformat": 4,
 "nbformat_minor": 5
}
